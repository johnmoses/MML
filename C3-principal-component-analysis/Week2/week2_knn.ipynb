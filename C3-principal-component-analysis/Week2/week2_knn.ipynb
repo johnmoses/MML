{
 "cells": [
  {
   "cell_type": "markdown",
   "metadata": {},
   "source": [
    "## K Nearest Neighbors\n",
    "\n",
    "In this section, we will explore the [KNN classification algorithm](https://en.wikipedia.org/wiki/K-nearest_neighbors_algorithm).\n",
    "A classification algorithm takes input some data and use the data to \n",
    "determine which class (category) this piece of data belongs to.\n",
    "\n",
    "![flower](https://archive.ics.uci.edu/ml/assets/MLimages/Large53.jpg)\n",
    "\n",
    "As a motivating example, consider the [iris flower dataset](https://archive.ics.uci.edu/ml/datasets/iris). The dataset consists\n",
    "of 150 data points where each data point is a feature vector $\\boldsymbol x \\in \\mathbb{R}^4$ describing the attribute of a flower in the dataset, the four dimensions represent \n",
    "\n",
    "1. sepal length in cm \n",
    "2. sepal width in cm \n",
    "3. petal length in cm \n",
    "4. petal width in cm \n",
    "\n",
    "\n",
    "and the corresponding target $y \\in \\mathbb{Z}$ describes the class of the flower. It uses the integers $0$, $1$ and $2$ to represent the 3 classes of flowers in this dataset.\n",
    "\n",
    "0. Iris Setosa\n",
    "1. Iris Versicolour \n",
    "2. Iris Virginica\n"
   ]
  },
  {
   "cell_type": "code",
   "execution_count": 1,
   "metadata": {},
   "outputs": [],
   "source": [
    "# PACKAGE: DO NOT EDIT THIS CELL\n",
    "import numpy as np\n",
    "import scipy"
   ]
  },
  {
   "cell_type": "code",
   "execution_count": 2,
   "metadata": {},
   "outputs": [],
   "source": [
    "import matplotlib as mpl\n",
    "import matplotlib.pyplot as plt\n",
    "import sklearn\n",
    "from ipywidgets import interact\n",
    "from load_data import load_mnist\n",
    "\n",
    "# Plot figures so that they can be shown in the notebook\n",
    "%matplotlib inline\n",
    "%config InlineBackend.figure_format = 'svg'"
   ]
  },
  {
   "cell_type": "code",
   "execution_count": 3,
   "metadata": {},
   "outputs": [
    {
     "name": "stdout",
     "output_type": "stream",
     "text": [
      "data shape is (150, 4)\n",
      "class shape is (150,)\n"
     ]
    }
   ],
   "source": [
    "from sklearn import neighbors, datasets\n",
    "iris = datasets.load_iris()\n",
    "print('data shape is {}'.format(iris.data.shape))\n",
    "print('class shape is {}'.format(iris.target.shape))"
   ]
  },
  {
   "cell_type": "markdown",
   "metadata": {},
   "source": [
    "For the simplicity of the exercise, we will only use the first 2 dimensions (sepal length and sepal width) of as features used to classify the flowers.\n"
   ]
  },
  {
   "cell_type": "code",
   "execution_count": 4,
   "metadata": {},
   "outputs": [],
   "source": [
    "X = iris.data[:, :2] # use first two version for simplicity\n",
    "y = iris.target"
   ]
  },
  {
   "cell_type": "markdown",
   "metadata": {},
   "source": [
    "We create a scatter plot of the dataset below. The x and y axis represent the sepal length and sepal width of the dataset, and the color of the points represent the different classes of flowers."
   ]
  },
  {
   "cell_type": "code",
   "execution_count": 5,
   "metadata": {},
   "outputs": [
    {
     "data": {
      "image/svg+xml": "<?xml version=\"1.0\" encoding=\"utf-8\" standalone=\"no\"?>\n<!DOCTYPE svg PUBLIC \"-//W3C//DTD SVG 1.1//EN\"\n  \"http://www.w3.org/Graphics/SVG/1.1/DTD/svg11.dtd\">\n<svg xmlns:xlink=\"http://www.w3.org/1999/xlink\" width=\"274.18125pt\" height=\"268.635469pt\" viewBox=\"0 0 274.18125 268.635469\" xmlns=\"http://www.w3.org/2000/svg\" version=\"1.1\">\n <metadata>\n  <rdf:RDF xmlns:dc=\"http://purl.org/dc/elements/1.1/\" xmlns:cc=\"http://creativecommons.org/ns#\" xmlns:rdf=\"http://www.w3.org/1999/02/22-rdf-syntax-ns#\">\n   <cc:Work>\n    <dc:type rdf:resource=\"http://purl.org/dc/dcmitype/StillImage\"/>\n    <dc:date>2023-01-20T13:32:06.054893</dc:date>\n    <dc:format>image/svg+xml</dc:format>\n    <dc:creator>\n     <cc:Agent>\n      <dc:title>Matplotlib v3.6.2, https://matplotlib.org/</dc:title>\n     </cc:Agent>\n    </dc:creator>\n   </cc:Work>\n  </rdf:RDF>\n </metadata>\n <defs>\n  <style type=\"text/css\">*{stroke-linejoin: round; stroke-linecap: butt}</style>\n </defs>\n <g id=\"figure_1\">\n  <g id=\"patch_1\">\n   <path d=\"M 0 268.635469 \nL 274.18125 268.635469 \nL 274.18125 0 \nL 0 0 \nz\n\" style=\"fill: #ffffff\"/>\n  </g>\n  <g id=\"axes_1\">\n   <g id=\"patch_2\">\n    <path d=\"M 43.78125 231.079219 \nL 266.98125 231.079219 \nL 266.98125 9.319219 \nL 43.78125 9.319219 \nz\n\" style=\"fill: #ffffff\"/>\n   </g>\n   <g id=\"PathCollection_1\">\n    <defs>\n     <path id=\"m7f39282fd1\" d=\"M 0 2.236068 \nC 0.593012 2.236068 1.161816 2.000462 1.581139 1.581139 \nC 2.000462 1.161816 2.236068 0.593012 2.236068 0 \nC 2.236068 -0.593012 2.000462 -1.161816 1.581139 -1.581139 \nC 1.161816 -2.000462 0.593012 -2.236068 0 -2.236068 \nC -0.593012 -2.236068 -1.161816 -2.000462 -1.581139 -1.581139 \nC -2.000462 -1.161816 -2.236068 -0.593012 -2.236068 0 \nC -2.236068 0.593012 -2.000462 1.161816 -1.581139 1.581139 \nC -1.161816 2.000462 -0.593012 2.236068 0 2.236068 \nz\n\" style=\"stroke: #000000\"/>\n    </defs>\n    <g clip-path=\"url(#p383904a6f2)\">\n     <use xlink:href=\"#m7f39282fd1\" x=\"99.017614\" y=\"94.999219\" style=\"fill: #ff0000; stroke: #000000\"/>\n     <use xlink:href=\"#m7f39282fd1\" x=\"87.744886\" y=\"136.999219\" style=\"fill: #ff0000; stroke: #000000\"/>\n     <use xlink:href=\"#m7f39282fd1\" x=\"76.472159\" y=\"120.199219\" style=\"fill: #ff0000; stroke: #000000\"/>\n     <use xlink:href=\"#m7f39282fd1\" x=\"70.835795\" y=\"128.599219\" style=\"fill: #ff0000; stroke: #000000\"/>\n     <use xlink:href=\"#m7f39282fd1\" x=\"93.38125\" y=\"86.599219\" style=\"fill: #ff0000; stroke: #000000\"/>\n     <use xlink:href=\"#m7f39282fd1\" x=\"115.926705\" y=\"61.399219\" style=\"fill: #ff0000; stroke: #000000\"/>\n     <use xlink:href=\"#m7f39282fd1\" x=\"70.835795\" y=\"103.399219\" style=\"fill: #ff0000; stroke: #000000\"/>\n     <use xlink:href=\"#m7f39282fd1\" x=\"93.38125\" y=\"103.399219\" style=\"fill: #ff0000; stroke: #000000\"/>\n     <use xlink:href=\"#m7f39282fd1\" x=\"59.563068\" y=\"145.399219\" style=\"fill: #ff0000; stroke: #000000\"/>\n     <use xlink:href=\"#m7f39282fd1\" x=\"87.744886\" y=\"128.599219\" style=\"fill: #ff0000; stroke: #000000\"/>\n     <use xlink:href=\"#m7f39282fd1\" x=\"115.926705\" y=\"78.199219\" style=\"fill: #ff0000; stroke: #000000\"/>\n     <use xlink:href=\"#m7f39282fd1\" x=\"82.108523\" y=\"103.399219\" style=\"fill: #ff0000; stroke: #000000\"/>\n     <use xlink:href=\"#m7f39282fd1\" x=\"82.108523\" y=\"136.999219\" style=\"fill: #ff0000; stroke: #000000\"/>\n     <use xlink:href=\"#m7f39282fd1\" x=\"53.926705\" y=\"136.999219\" style=\"fill: #ff0000; stroke: #000000\"/>\n     <use xlink:href=\"#m7f39282fd1\" x=\"138.472159\" y=\"52.999219\" style=\"fill: #ff0000; stroke: #000000\"/>\n     <use xlink:href=\"#m7f39282fd1\" x=\"132.835795\" y=\"19.399219\" style=\"fill: #ff0000; stroke: #000000\"/>\n     <use xlink:href=\"#m7f39282fd1\" x=\"115.926705\" y=\"61.399219\" style=\"fill: #ff0000; stroke: #000000\"/>\n     <use xlink:href=\"#m7f39282fd1\" x=\"99.017614\" y=\"94.999219\" style=\"fill: #ff0000; stroke: #000000\"/>\n     <use xlink:href=\"#m7f39282fd1\" x=\"132.835795\" y=\"69.799219\" style=\"fill: #ff0000; stroke: #000000\"/>\n     <use xlink:href=\"#m7f39282fd1\" x=\"99.017614\" y=\"69.799219\" style=\"fill: #ff0000; stroke: #000000\"/>\n     <use xlink:href=\"#m7f39282fd1\" x=\"115.926705\" y=\"103.399219\" style=\"fill: #ff0000; stroke: #000000\"/>\n     <use xlink:href=\"#m7f39282fd1\" x=\"99.017614\" y=\"78.199219\" style=\"fill: #ff0000; stroke: #000000\"/>\n     <use xlink:href=\"#m7f39282fd1\" x=\"70.835795\" y=\"86.599219\" style=\"fill: #ff0000; stroke: #000000\"/>\n     <use xlink:href=\"#m7f39282fd1\" x=\"99.017614\" y=\"111.799219\" style=\"fill: #ff0000; stroke: #000000\"/>\n     <use xlink:href=\"#m7f39282fd1\" x=\"82.108523\" y=\"103.399219\" style=\"fill: #ff0000; stroke: #000000\"/>\n     <use xlink:href=\"#m7f39282fd1\" x=\"93.38125\" y=\"136.999219\" style=\"fill: #ff0000; stroke: #000000\"/>\n     <use xlink:href=\"#m7f39282fd1\" x=\"93.38125\" y=\"103.399219\" style=\"fill: #ff0000; stroke: #000000\"/>\n     <use xlink:href=\"#m7f39282fd1\" x=\"104.653977\" y=\"94.999219\" style=\"fill: #ff0000; stroke: #000000\"/>\n     <use xlink:href=\"#m7f39282fd1\" x=\"104.653977\" y=\"103.399219\" style=\"fill: #ff0000; stroke: #000000\"/>\n     <use xlink:href=\"#m7f39282fd1\" x=\"76.472159\" y=\"120.199219\" style=\"fill: #ff0000; stroke: #000000\"/>\n     <use xlink:href=\"#m7f39282fd1\" x=\"82.108523\" y=\"128.599219\" style=\"fill: #ff0000; stroke: #000000\"/>\n     <use xlink:href=\"#m7f39282fd1\" x=\"115.926705\" y=\"103.399219\" style=\"fill: #ff0000; stroke: #000000\"/>\n     <use xlink:href=\"#m7f39282fd1\" x=\"104.653977\" y=\"44.599219\" style=\"fill: #ff0000; stroke: #000000\"/>\n     <use xlink:href=\"#m7f39282fd1\" x=\"121.563068\" y=\"36.199219\" style=\"fill: #ff0000; stroke: #000000\"/>\n     <use xlink:href=\"#m7f39282fd1\" x=\"87.744886\" y=\"128.599219\" style=\"fill: #ff0000; stroke: #000000\"/>\n     <use xlink:href=\"#m7f39282fd1\" x=\"93.38125\" y=\"120.199219\" style=\"fill: #ff0000; stroke: #000000\"/>\n     <use xlink:href=\"#m7f39282fd1\" x=\"121.563068\" y=\"94.999219\" style=\"fill: #ff0000; stroke: #000000\"/>\n     <use xlink:href=\"#m7f39282fd1\" x=\"87.744886\" y=\"86.599219\" style=\"fill: #ff0000; stroke: #000000\"/>\n     <use xlink:href=\"#m7f39282fd1\" x=\"59.563068\" y=\"136.999219\" style=\"fill: #ff0000; stroke: #000000\"/>\n     <use xlink:href=\"#m7f39282fd1\" x=\"99.017614\" y=\"103.399219\" style=\"fill: #ff0000; stroke: #000000\"/>\n     <use xlink:href=\"#m7f39282fd1\" x=\"93.38125\" y=\"94.999219\" style=\"fill: #ff0000; stroke: #000000\"/>\n     <use xlink:href=\"#m7f39282fd1\" x=\"65.199432\" y=\"195.799219\" style=\"fill: #ff0000; stroke: #000000\"/>\n     <use xlink:href=\"#m7f39282fd1\" x=\"59.563068\" y=\"120.199219\" style=\"fill: #ff0000; stroke: #000000\"/>\n     <use xlink:href=\"#m7f39282fd1\" x=\"93.38125\" y=\"94.999219\" style=\"fill: #ff0000; stroke: #000000\"/>\n     <use xlink:href=\"#m7f39282fd1\" x=\"99.017614\" y=\"69.799219\" style=\"fill: #ff0000; stroke: #000000\"/>\n     <use xlink:href=\"#m7f39282fd1\" x=\"82.108523\" y=\"136.999219\" style=\"fill: #ff0000; stroke: #000000\"/>\n     <use xlink:href=\"#m7f39282fd1\" x=\"99.017614\" y=\"69.799219\" style=\"fill: #ff0000; stroke: #000000\"/>\n     <use xlink:href=\"#m7f39282fd1\" x=\"70.835795\" y=\"120.199219\" style=\"fill: #ff0000; stroke: #000000\"/>\n     <use xlink:href=\"#m7f39282fd1\" x=\"110.290341\" y=\"78.199219\" style=\"fill: #ff0000; stroke: #000000\"/>\n     <use xlink:href=\"#m7f39282fd1\" x=\"93.38125\" y=\"111.799219\" style=\"fill: #ff0000; stroke: #000000\"/>\n    </g>\n   </g>\n   <g id=\"PathCollection_2\">\n    <defs>\n     <path id=\"mfb252b1e53\" d=\"M 0 2.236068 \nC 0.593012 2.236068 1.161816 2.000462 1.581139 1.581139 \nC 2.000462 1.161816 2.236068 0.593012 2.236068 0 \nC 2.236068 -0.593012 2.000462 -1.161816 1.581139 -1.581139 \nC 1.161816 -2.000462 0.593012 -2.236068 0 -2.236068 \nC -0.593012 -2.236068 -1.161816 -2.000462 -1.581139 -1.581139 \nC -2.000462 -1.161816 -2.236068 -0.593012 -2.236068 0 \nC -2.236068 0.593012 -2.000462 1.161816 -1.581139 1.581139 \nC -1.161816 2.000462 -0.593012 2.236068 0 2.236068 \nz\n\" style=\"stroke: #000000\"/>\n    </defs>\n    <g clip-path=\"url(#p383904a6f2)\">\n     <use xlink:href=\"#mfb252b1e53\" x=\"206.108523\" y=\"120.199219\" style=\"fill: #00ff00; stroke: #000000\"/>\n     <use xlink:href=\"#mfb252b1e53\" x=\"172.290341\" y=\"120.199219\" style=\"fill: #00ff00; stroke: #000000\"/>\n     <use xlink:href=\"#mfb252b1e53\" x=\"200.472159\" y=\"128.599219\" style=\"fill: #00ff00; stroke: #000000\"/>\n     <use xlink:href=\"#mfb252b1e53\" x=\"121.563068\" y=\"195.799219\" style=\"fill: #00ff00; stroke: #000000\"/>\n     <use xlink:href=\"#mfb252b1e53\" x=\"177.926705\" y=\"153.799219\" style=\"fill: #00ff00; stroke: #000000\"/>\n     <use xlink:href=\"#mfb252b1e53\" x=\"132.835795\" y=\"153.799219\" style=\"fill: #00ff00; stroke: #000000\"/>\n     <use xlink:href=\"#mfb252b1e53\" x=\"166.653977\" y=\"111.799219\" style=\"fill: #00ff00; stroke: #000000\"/>\n     <use xlink:href=\"#mfb252b1e53\" x=\"87.744886\" y=\"187.399219\" style=\"fill: #00ff00; stroke: #000000\"/>\n     <use xlink:href=\"#mfb252b1e53\" x=\"183.563068\" y=\"145.399219\" style=\"fill: #00ff00; stroke: #000000\"/>\n     <use xlink:href=\"#mfb252b1e53\" x=\"104.653977\" y=\"162.199219\" style=\"fill: #00ff00; stroke: #000000\"/>\n     <use xlink:href=\"#mfb252b1e53\" x=\"93.38125\" y=\"220.999219\" style=\"fill: #00ff00; stroke: #000000\"/>\n     <use xlink:href=\"#mfb252b1e53\" x=\"144.108523\" y=\"136.999219\" style=\"fill: #00ff00; stroke: #000000\"/>\n     <use xlink:href=\"#mfb252b1e53\" x=\"149.744886\" y=\"204.199219\" style=\"fill: #00ff00; stroke: #000000\"/>\n     <use xlink:href=\"#mfb252b1e53\" x=\"155.38125\" y=\"145.399219\" style=\"fill: #00ff00; stroke: #000000\"/>\n     <use xlink:href=\"#mfb252b1e53\" x=\"127.199432\" y=\"145.399219\" style=\"fill: #00ff00; stroke: #000000\"/>\n     <use xlink:href=\"#mfb252b1e53\" x=\"189.199432\" y=\"128.599219\" style=\"fill: #00ff00; stroke: #000000\"/>\n     <use xlink:href=\"#mfb252b1e53\" x=\"127.199432\" y=\"136.999219\" style=\"fill: #00ff00; stroke: #000000\"/>\n     <use xlink:href=\"#mfb252b1e53\" x=\"138.472159\" y=\"162.199219\" style=\"fill: #00ff00; stroke: #000000\"/>\n     <use xlink:href=\"#mfb252b1e53\" x=\"161.017614\" y=\"204.199219\" style=\"fill: #00ff00; stroke: #000000\"/>\n     <use xlink:href=\"#mfb252b1e53\" x=\"127.199432\" y=\"178.999219\" style=\"fill: #00ff00; stroke: #000000\"/>\n     <use xlink:href=\"#mfb252b1e53\" x=\"144.108523\" y=\"120.199219\" style=\"fill: #00ff00; stroke: #000000\"/>\n     <use xlink:href=\"#mfb252b1e53\" x=\"155.38125\" y=\"153.799219\" style=\"fill: #00ff00; stroke: #000000\"/>\n     <use xlink:href=\"#mfb252b1e53\" x=\"166.653977\" y=\"178.999219\" style=\"fill: #00ff00; stroke: #000000\"/>\n     <use xlink:href=\"#mfb252b1e53\" x=\"155.38125\" y=\"153.799219\" style=\"fill: #00ff00; stroke: #000000\"/>\n     <use xlink:href=\"#mfb252b1e53\" x=\"172.290341\" y=\"145.399219\" style=\"fill: #00ff00; stroke: #000000\"/>\n     <use xlink:href=\"#mfb252b1e53\" x=\"183.563068\" y=\"136.999219\" style=\"fill: #00ff00; stroke: #000000\"/>\n     <use xlink:href=\"#mfb252b1e53\" x=\"194.835795\" y=\"153.799219\" style=\"fill: #00ff00; stroke: #000000\"/>\n     <use xlink:href=\"#mfb252b1e53\" x=\"189.199432\" y=\"136.999219\" style=\"fill: #00ff00; stroke: #000000\"/>\n     <use xlink:href=\"#mfb252b1e53\" x=\"149.744886\" y=\"145.399219\" style=\"fill: #00ff00; stroke: #000000\"/>\n     <use xlink:href=\"#mfb252b1e53\" x=\"132.835795\" y=\"170.599219\" style=\"fill: #00ff00; stroke: #000000\"/>\n     <use xlink:href=\"#mfb252b1e53\" x=\"121.563068\" y=\"187.399219\" style=\"fill: #00ff00; stroke: #000000\"/>\n     <use xlink:href=\"#mfb252b1e53\" x=\"121.563068\" y=\"187.399219\" style=\"fill: #00ff00; stroke: #000000\"/>\n     <use xlink:href=\"#mfb252b1e53\" x=\"138.472159\" y=\"162.199219\" style=\"fill: #00ff00; stroke: #000000\"/>\n     <use xlink:href=\"#mfb252b1e53\" x=\"149.744886\" y=\"162.199219\" style=\"fill: #00ff00; stroke: #000000\"/>\n     <use xlink:href=\"#mfb252b1e53\" x=\"115.926705\" y=\"136.999219\" style=\"fill: #00ff00; stroke: #000000\"/>\n     <use xlink:href=\"#mfb252b1e53\" x=\"149.744886\" y=\"103.399219\" style=\"fill: #00ff00; stroke: #000000\"/>\n     <use xlink:href=\"#mfb252b1e53\" x=\"189.199432\" y=\"128.599219\" style=\"fill: #00ff00; stroke: #000000\"/>\n     <use xlink:href=\"#mfb252b1e53\" x=\"166.653977\" y=\"195.799219\" style=\"fill: #00ff00; stroke: #000000\"/>\n     <use xlink:href=\"#mfb252b1e53\" x=\"127.199432\" y=\"136.999219\" style=\"fill: #00ff00; stroke: #000000\"/>\n     <use xlink:href=\"#mfb252b1e53\" x=\"121.563068\" y=\"178.999219\" style=\"fill: #00ff00; stroke: #000000\"/>\n     <use xlink:href=\"#mfb252b1e53\" x=\"121.563068\" y=\"170.599219\" style=\"fill: #00ff00; stroke: #000000\"/>\n     <use xlink:href=\"#mfb252b1e53\" x=\"155.38125\" y=\"136.999219\" style=\"fill: #00ff00; stroke: #000000\"/>\n     <use xlink:href=\"#mfb252b1e53\" x=\"138.472159\" y=\"170.599219\" style=\"fill: #00ff00; stroke: #000000\"/>\n     <use xlink:href=\"#mfb252b1e53\" x=\"93.38125\" y=\"195.799219\" style=\"fill: #00ff00; stroke: #000000\"/>\n     <use xlink:href=\"#mfb252b1e53\" x=\"127.199432\" y=\"162.199219\" style=\"fill: #00ff00; stroke: #000000\"/>\n     <use xlink:href=\"#mfb252b1e53\" x=\"132.835795\" y=\"136.999219\" style=\"fill: #00ff00; stroke: #000000\"/>\n     <use xlink:href=\"#mfb252b1e53\" x=\"132.835795\" y=\"145.399219\" style=\"fill: #00ff00; stroke: #000000\"/>\n     <use xlink:href=\"#mfb252b1e53\" x=\"161.017614\" y=\"145.399219\" style=\"fill: #00ff00; stroke: #000000\"/>\n     <use xlink:href=\"#mfb252b1e53\" x=\"99.017614\" y=\"178.999219\" style=\"fill: #00ff00; stroke: #000000\"/>\n     <use xlink:href=\"#mfb252b1e53\" x=\"132.835795\" y=\"153.799219\" style=\"fill: #00ff00; stroke: #000000\"/>\n    </g>\n   </g>\n   <g id=\"PathCollection_3\">\n    <defs>\n     <path id=\"m7c1a18d54f\" d=\"M 0 2.236068 \nC 0.593012 2.236068 1.161816 2.000462 1.581139 1.581139 \nC 2.000462 1.161816 2.236068 0.593012 2.236068 0 \nC 2.236068 -0.593012 2.000462 -1.161816 1.581139 -1.581139 \nC 1.161816 -2.000462 0.593012 -2.236068 0 -2.236068 \nC -0.593012 -2.236068 -1.161816 -2.000462 -1.581139 -1.581139 \nC -2.000462 -1.161816 -2.236068 -0.593012 -2.236068 0 \nC -2.236068 0.593012 -2.000462 1.161816 -1.581139 1.581139 \nC -1.161816 2.000462 -0.593012 2.236068 0 2.236068 \nz\n\" style=\"stroke: #000000\"/>\n    </defs>\n    <g clip-path=\"url(#p383904a6f2)\">\n     <use xlink:href=\"#m7c1a18d54f\" x=\"166.653977\" y=\"111.799219\" style=\"fill: #0000ff; stroke: #000000\"/>\n     <use xlink:href=\"#m7c1a18d54f\" x=\"138.472159\" y=\"162.199219\" style=\"fill: #0000ff; stroke: #000000\"/>\n     <use xlink:href=\"#m7c1a18d54f\" x=\"211.744886\" y=\"136.999219\" style=\"fill: #0000ff; stroke: #000000\"/>\n     <use xlink:href=\"#m7c1a18d54f\" x=\"166.653977\" y=\"145.399219\" style=\"fill: #0000ff; stroke: #000000\"/>\n     <use xlink:href=\"#m7c1a18d54f\" x=\"177.926705\" y=\"136.999219\" style=\"fill: #0000ff; stroke: #000000\"/>\n     <use xlink:href=\"#m7c1a18d54f\" x=\"239.926705\" y=\"136.999219\" style=\"fill: #0000ff; stroke: #000000\"/>\n     <use xlink:href=\"#m7c1a18d54f\" x=\"87.744886\" y=\"178.999219\" style=\"fill: #0000ff; stroke: #000000\"/>\n     <use xlink:href=\"#m7c1a18d54f\" x=\"223.017614\" y=\"145.399219\" style=\"fill: #0000ff; stroke: #000000\"/>\n     <use xlink:href=\"#m7c1a18d54f\" x=\"189.199432\" y=\"178.999219\" style=\"fill: #0000ff; stroke: #000000\"/>\n     <use xlink:href=\"#m7c1a18d54f\" x=\"217.38125\" y=\"86.599219\" style=\"fill: #0000ff; stroke: #000000\"/>\n     <use xlink:href=\"#m7c1a18d54f\" x=\"177.926705\" y=\"120.199219\" style=\"fill: #0000ff; stroke: #000000\"/>\n     <use xlink:href=\"#m7c1a18d54f\" x=\"172.290341\" y=\"162.199219\" style=\"fill: #0000ff; stroke: #000000\"/>\n     <use xlink:href=\"#m7c1a18d54f\" x=\"194.835795\" y=\"136.999219\" style=\"fill: #0000ff; stroke: #000000\"/>\n     <use xlink:href=\"#m7c1a18d54f\" x=\"132.835795\" y=\"178.999219\" style=\"fill: #0000ff; stroke: #000000\"/>\n     <use xlink:href=\"#m7c1a18d54f\" x=\"138.472159\" y=\"153.799219\" style=\"fill: #0000ff; stroke: #000000\"/>\n     <use xlink:href=\"#m7c1a18d54f\" x=\"172.290341\" y=\"120.199219\" style=\"fill: #0000ff; stroke: #000000\"/>\n     <use xlink:href=\"#m7c1a18d54f\" x=\"177.926705\" y=\"136.999219\" style=\"fill: #0000ff; stroke: #000000\"/>\n     <use xlink:href=\"#m7c1a18d54f\" x=\"245.563068\" y=\"69.799219\" style=\"fill: #0000ff; stroke: #000000\"/>\n     <use xlink:href=\"#m7c1a18d54f\" x=\"245.563068\" y=\"170.599219\" style=\"fill: #0000ff; stroke: #000000\"/>\n     <use xlink:href=\"#m7c1a18d54f\" x=\"149.744886\" y=\"204.199219\" style=\"fill: #0000ff; stroke: #000000\"/>\n     <use xlink:href=\"#m7c1a18d54f\" x=\"200.472159\" y=\"120.199219\" style=\"fill: #0000ff; stroke: #000000\"/>\n     <use xlink:href=\"#m7c1a18d54f\" x=\"127.199432\" y=\"153.799219\" style=\"fill: #0000ff; stroke: #000000\"/>\n     <use xlink:href=\"#m7c1a18d54f\" x=\"245.563068\" y=\"153.799219\" style=\"fill: #0000ff; stroke: #000000\"/>\n     <use xlink:href=\"#m7c1a18d54f\" x=\"166.653977\" y=\"162.199219\" style=\"fill: #0000ff; stroke: #000000\"/>\n     <use xlink:href=\"#m7c1a18d54f\" x=\"189.199432\" y=\"111.799219\" style=\"fill: #0000ff; stroke: #000000\"/>\n     <use xlink:href=\"#m7c1a18d54f\" x=\"217.38125\" y=\"120.199219\" style=\"fill: #0000ff; stroke: #000000\"/>\n     <use xlink:href=\"#m7c1a18d54f\" x=\"161.017614\" y=\"153.799219\" style=\"fill: #0000ff; stroke: #000000\"/>\n     <use xlink:href=\"#m7c1a18d54f\" x=\"155.38125\" y=\"136.999219\" style=\"fill: #0000ff; stroke: #000000\"/>\n     <use xlink:href=\"#m7c1a18d54f\" x=\"172.290341\" y=\"153.799219\" style=\"fill: #0000ff; stroke: #000000\"/>\n     <use xlink:href=\"#m7c1a18d54f\" x=\"217.38125\" y=\"136.999219\" style=\"fill: #0000ff; stroke: #000000\"/>\n     <use xlink:href=\"#m7c1a18d54f\" x=\"228.653977\" y=\"153.799219\" style=\"fill: #0000ff; stroke: #000000\"/>\n     <use xlink:href=\"#m7c1a18d54f\" x=\"256.835795\" y=\"69.799219\" style=\"fill: #0000ff; stroke: #000000\"/>\n     <use xlink:href=\"#m7c1a18d54f\" x=\"172.290341\" y=\"153.799219\" style=\"fill: #0000ff; stroke: #000000\"/>\n     <use xlink:href=\"#m7c1a18d54f\" x=\"166.653977\" y=\"153.799219\" style=\"fill: #0000ff; stroke: #000000\"/>\n     <use xlink:href=\"#m7c1a18d54f\" x=\"155.38125\" y=\"170.599219\" style=\"fill: #0000ff; stroke: #000000\"/>\n     <use xlink:href=\"#m7c1a18d54f\" x=\"245.563068\" y=\"136.999219\" style=\"fill: #0000ff; stroke: #000000\"/>\n     <use xlink:href=\"#m7c1a18d54f\" x=\"166.653977\" y=\"103.399219\" style=\"fill: #0000ff; stroke: #000000\"/>\n     <use xlink:href=\"#m7c1a18d54f\" x=\"172.290341\" y=\"128.599219\" style=\"fill: #0000ff; stroke: #000000\"/>\n     <use xlink:href=\"#m7c1a18d54f\" x=\"149.744886\" y=\"136.999219\" style=\"fill: #0000ff; stroke: #000000\"/>\n     <use xlink:href=\"#m7c1a18d54f\" x=\"200.472159\" y=\"128.599219\" style=\"fill: #0000ff; stroke: #000000\"/>\n     <use xlink:href=\"#m7c1a18d54f\" x=\"189.199432\" y=\"128.599219\" style=\"fill: #0000ff; stroke: #000000\"/>\n     <use xlink:href=\"#m7c1a18d54f\" x=\"200.472159\" y=\"128.599219\" style=\"fill: #0000ff; stroke: #000000\"/>\n     <use xlink:href=\"#m7c1a18d54f\" x=\"138.472159\" y=\"162.199219\" style=\"fill: #0000ff; stroke: #000000\"/>\n     <use xlink:href=\"#m7c1a18d54f\" x=\"194.835795\" y=\"120.199219\" style=\"fill: #0000ff; stroke: #000000\"/>\n     <use xlink:href=\"#m7c1a18d54f\" x=\"189.199432\" y=\"111.799219\" style=\"fill: #0000ff; stroke: #000000\"/>\n     <use xlink:href=\"#m7c1a18d54f\" x=\"189.199432\" y=\"136.999219\" style=\"fill: #0000ff; stroke: #000000\"/>\n     <use xlink:href=\"#m7c1a18d54f\" x=\"166.653977\" y=\"178.999219\" style=\"fill: #0000ff; stroke: #000000\"/>\n     <use xlink:href=\"#m7c1a18d54f\" x=\"177.926705\" y=\"136.999219\" style=\"fill: #0000ff; stroke: #000000\"/>\n     <use xlink:href=\"#m7c1a18d54f\" x=\"161.017614\" y=\"103.399219\" style=\"fill: #0000ff; stroke: #000000\"/>\n     <use xlink:href=\"#m7c1a18d54f\" x=\"144.108523\" y=\"136.999219\" style=\"fill: #0000ff; stroke: #000000\"/>\n    </g>\n   </g>\n   <g id=\"matplotlib.axis_1\">\n    <g id=\"xtick_1\">\n     <g id=\"line2d_1\">\n      <defs>\n       <path id=\"m5971043a8e\" d=\"M 0 0 \nL 0 3.5 \n\" style=\"stroke: #000000; stroke-width: 0.8\"/>\n      </defs>\n      <g>\n       <use xlink:href=\"#m5971043a8e\" x=\"93.38125\" y=\"231.079219\" style=\"stroke: #000000; stroke-width: 0.8\"/>\n      </g>\n     </g>\n     <g id=\"text_1\">\n      <!-- 5 -->\n      <g transform=\"translate(90.2 245.677656) scale(0.1 -0.1)\">\n       <defs>\n        <path id=\"DejaVuSans-35\" d=\"M 691 4666 \nL 3169 4666 \nL 3169 4134 \nL 1269 4134 \nL 1269 2991 \nQ 1406 3038 1543 3061 \nQ 1681 3084 1819 3084 \nQ 2600 3084 3056 2656 \nQ 3513 2228 3513 1497 \nQ 3513 744 3044 326 \nQ 2575 -91 1722 -91 \nQ 1428 -91 1123 -41 \nQ 819 9 494 109 \nL 494 744 \nQ 775 591 1075 516 \nQ 1375 441 1709 441 \nQ 2250 441 2565 725 \nQ 2881 1009 2881 1497 \nQ 2881 1984 2565 2268 \nQ 2250 2553 1709 2553 \nQ 1456 2553 1204 2497 \nQ 953 2441 691 2322 \nL 691 4666 \nz\n\" transform=\"scale(0.015625)\"/>\n       </defs>\n       <use xlink:href=\"#DejaVuSans-35\"/>\n      </g>\n     </g>\n    </g>\n    <g id=\"xtick_2\">\n     <g id=\"line2d_2\">\n      <g>\n       <use xlink:href=\"#m5971043a8e\" x=\"149.744886\" y=\"231.079219\" style=\"stroke: #000000; stroke-width: 0.8\"/>\n      </g>\n     </g>\n     <g id=\"text_2\">\n      <!-- 6 -->\n      <g transform=\"translate(146.563636 245.677656) scale(0.1 -0.1)\">\n       <defs>\n        <path id=\"DejaVuSans-36\" d=\"M 2113 2584 \nQ 1688 2584 1439 2293 \nQ 1191 2003 1191 1497 \nQ 1191 994 1439 701 \nQ 1688 409 2113 409 \nQ 2538 409 2786 701 \nQ 3034 994 3034 1497 \nQ 3034 2003 2786 2293 \nQ 2538 2584 2113 2584 \nz\nM 3366 4563 \nL 3366 3988 \nQ 3128 4100 2886 4159 \nQ 2644 4219 2406 4219 \nQ 1781 4219 1451 3797 \nQ 1122 3375 1075 2522 \nQ 1259 2794 1537 2939 \nQ 1816 3084 2150 3084 \nQ 2853 3084 3261 2657 \nQ 3669 2231 3669 1497 \nQ 3669 778 3244 343 \nQ 2819 -91 2113 -91 \nQ 1303 -91 875 529 \nQ 447 1150 447 2328 \nQ 447 3434 972 4092 \nQ 1497 4750 2381 4750 \nQ 2619 4750 2861 4703 \nQ 3103 4656 3366 4563 \nz\n\" transform=\"scale(0.015625)\"/>\n       </defs>\n       <use xlink:href=\"#DejaVuSans-36\"/>\n      </g>\n     </g>\n    </g>\n    <g id=\"xtick_3\">\n     <g id=\"line2d_3\">\n      <g>\n       <use xlink:href=\"#m5971043a8e\" x=\"206.108523\" y=\"231.079219\" style=\"stroke: #000000; stroke-width: 0.8\"/>\n      </g>\n     </g>\n     <g id=\"text_3\">\n      <!-- 7 -->\n      <g transform=\"translate(202.927273 245.677656) scale(0.1 -0.1)\">\n       <defs>\n        <path id=\"DejaVuSans-37\" d=\"M 525 4666 \nL 3525 4666 \nL 3525 4397 \nL 1831 0 \nL 1172 0 \nL 2766 4134 \nL 525 4134 \nL 525 4666 \nz\n\" transform=\"scale(0.015625)\"/>\n       </defs>\n       <use xlink:href=\"#DejaVuSans-37\"/>\n      </g>\n     </g>\n    </g>\n    <g id=\"xtick_4\">\n     <g id=\"line2d_4\">\n      <g>\n       <use xlink:href=\"#m5971043a8e\" x=\"262.472159\" y=\"231.079219\" style=\"stroke: #000000; stroke-width: 0.8\"/>\n      </g>\n     </g>\n     <g id=\"text_4\">\n      <!-- 8 -->\n      <g transform=\"translate(259.290909 245.677656) scale(0.1 -0.1)\">\n       <defs>\n        <path id=\"DejaVuSans-38\" d=\"M 2034 2216 \nQ 1584 2216 1326 1975 \nQ 1069 1734 1069 1313 \nQ 1069 891 1326 650 \nQ 1584 409 2034 409 \nQ 2484 409 2743 651 \nQ 3003 894 3003 1313 \nQ 3003 1734 2745 1975 \nQ 2488 2216 2034 2216 \nz\nM 1403 2484 \nQ 997 2584 770 2862 \nQ 544 3141 544 3541 \nQ 544 4100 942 4425 \nQ 1341 4750 2034 4750 \nQ 2731 4750 3128 4425 \nQ 3525 4100 3525 3541 \nQ 3525 3141 3298 2862 \nQ 3072 2584 2669 2484 \nQ 3125 2378 3379 2068 \nQ 3634 1759 3634 1313 \nQ 3634 634 3220 271 \nQ 2806 -91 2034 -91 \nQ 1263 -91 848 271 \nQ 434 634 434 1313 \nQ 434 1759 690 2068 \nQ 947 2378 1403 2484 \nz\nM 1172 3481 \nQ 1172 3119 1398 2916 \nQ 1625 2713 2034 2713 \nQ 2441 2713 2670 2916 \nQ 2900 3119 2900 3481 \nQ 2900 3844 2670 4047 \nQ 2441 4250 2034 4250 \nQ 1625 4250 1398 4047 \nQ 1172 3844 1172 3481 \nz\n\" transform=\"scale(0.015625)\"/>\n       </defs>\n       <use xlink:href=\"#DejaVuSans-38\"/>\n      </g>\n     </g>\n    </g>\n    <g id=\"text_5\">\n     <!-- sepal length (cm) -->\n     <g transform=\"translate(111.435937 259.355781) scale(0.1 -0.1)\">\n      <defs>\n       <path id=\"DejaVuSans-73\" d=\"M 2834 3397 \nL 2834 2853 \nQ 2591 2978 2328 3040 \nQ 2066 3103 1784 3103 \nQ 1356 3103 1142 2972 \nQ 928 2841 928 2578 \nQ 928 2378 1081 2264 \nQ 1234 2150 1697 2047 \nL 1894 2003 \nQ 2506 1872 2764 1633 \nQ 3022 1394 3022 966 \nQ 3022 478 2636 193 \nQ 2250 -91 1575 -91 \nQ 1294 -91 989 -36 \nQ 684 19 347 128 \nL 347 722 \nQ 666 556 975 473 \nQ 1284 391 1588 391 \nQ 1994 391 2212 530 \nQ 2431 669 2431 922 \nQ 2431 1156 2273 1281 \nQ 2116 1406 1581 1522 \nL 1381 1569 \nQ 847 1681 609 1914 \nQ 372 2147 372 2553 \nQ 372 3047 722 3315 \nQ 1072 3584 1716 3584 \nQ 2034 3584 2315 3537 \nQ 2597 3491 2834 3397 \nz\n\" transform=\"scale(0.015625)\"/>\n       <path id=\"DejaVuSans-65\" d=\"M 3597 1894 \nL 3597 1613 \nL 953 1613 \nQ 991 1019 1311 708 \nQ 1631 397 2203 397 \nQ 2534 397 2845 478 \nQ 3156 559 3463 722 \nL 3463 178 \nQ 3153 47 2828 -22 \nQ 2503 -91 2169 -91 \nQ 1331 -91 842 396 \nQ 353 884 353 1716 \nQ 353 2575 817 3079 \nQ 1281 3584 2069 3584 \nQ 2775 3584 3186 3129 \nQ 3597 2675 3597 1894 \nz\nM 3022 2063 \nQ 3016 2534 2758 2815 \nQ 2500 3097 2075 3097 \nQ 1594 3097 1305 2825 \nQ 1016 2553 972 2059 \nL 3022 2063 \nz\n\" transform=\"scale(0.015625)\"/>\n       <path id=\"DejaVuSans-70\" d=\"M 1159 525 \nL 1159 -1331 \nL 581 -1331 \nL 581 3500 \nL 1159 3500 \nL 1159 2969 \nQ 1341 3281 1617 3432 \nQ 1894 3584 2278 3584 \nQ 2916 3584 3314 3078 \nQ 3713 2572 3713 1747 \nQ 3713 922 3314 415 \nQ 2916 -91 2278 -91 \nQ 1894 -91 1617 61 \nQ 1341 213 1159 525 \nz\nM 3116 1747 \nQ 3116 2381 2855 2742 \nQ 2594 3103 2138 3103 \nQ 1681 3103 1420 2742 \nQ 1159 2381 1159 1747 \nQ 1159 1113 1420 752 \nQ 1681 391 2138 391 \nQ 2594 391 2855 752 \nQ 3116 1113 3116 1747 \nz\n\" transform=\"scale(0.015625)\"/>\n       <path id=\"DejaVuSans-61\" d=\"M 2194 1759 \nQ 1497 1759 1228 1600 \nQ 959 1441 959 1056 \nQ 959 750 1161 570 \nQ 1363 391 1709 391 \nQ 2188 391 2477 730 \nQ 2766 1069 2766 1631 \nL 2766 1759 \nL 2194 1759 \nz\nM 3341 1997 \nL 3341 0 \nL 2766 0 \nL 2766 531 \nQ 2569 213 2275 61 \nQ 1981 -91 1556 -91 \nQ 1019 -91 701 211 \nQ 384 513 384 1019 \nQ 384 1609 779 1909 \nQ 1175 2209 1959 2209 \nL 2766 2209 \nL 2766 2266 \nQ 2766 2663 2505 2880 \nQ 2244 3097 1772 3097 \nQ 1472 3097 1187 3025 \nQ 903 2953 641 2809 \nL 641 3341 \nQ 956 3463 1253 3523 \nQ 1550 3584 1831 3584 \nQ 2591 3584 2966 3190 \nQ 3341 2797 3341 1997 \nz\n\" transform=\"scale(0.015625)\"/>\n       <path id=\"DejaVuSans-6c\" d=\"M 603 4863 \nL 1178 4863 \nL 1178 0 \nL 603 0 \nL 603 4863 \nz\n\" transform=\"scale(0.015625)\"/>\n       <path id=\"DejaVuSans-20\" transform=\"scale(0.015625)\"/>\n       <path id=\"DejaVuSans-6e\" d=\"M 3513 2113 \nL 3513 0 \nL 2938 0 \nL 2938 2094 \nQ 2938 2591 2744 2837 \nQ 2550 3084 2163 3084 \nQ 1697 3084 1428 2787 \nQ 1159 2491 1159 1978 \nL 1159 0 \nL 581 0 \nL 581 3500 \nL 1159 3500 \nL 1159 2956 \nQ 1366 3272 1645 3428 \nQ 1925 3584 2291 3584 \nQ 2894 3584 3203 3211 \nQ 3513 2838 3513 2113 \nz\n\" transform=\"scale(0.015625)\"/>\n       <path id=\"DejaVuSans-67\" d=\"M 2906 1791 \nQ 2906 2416 2648 2759 \nQ 2391 3103 1925 3103 \nQ 1463 3103 1205 2759 \nQ 947 2416 947 1791 \nQ 947 1169 1205 825 \nQ 1463 481 1925 481 \nQ 2391 481 2648 825 \nQ 2906 1169 2906 1791 \nz\nM 3481 434 \nQ 3481 -459 3084 -895 \nQ 2688 -1331 1869 -1331 \nQ 1566 -1331 1297 -1286 \nQ 1028 -1241 775 -1147 \nL 775 -588 \nQ 1028 -725 1275 -790 \nQ 1522 -856 1778 -856 \nQ 2344 -856 2625 -561 \nQ 2906 -266 2906 331 \nL 2906 616 \nQ 2728 306 2450 153 \nQ 2172 0 1784 0 \nQ 1141 0 747 490 \nQ 353 981 353 1791 \nQ 353 2603 747 3093 \nQ 1141 3584 1784 3584 \nQ 2172 3584 2450 3431 \nQ 2728 3278 2906 2969 \nL 2906 3500 \nL 3481 3500 \nL 3481 434 \nz\n\" transform=\"scale(0.015625)\"/>\n       <path id=\"DejaVuSans-74\" d=\"M 1172 4494 \nL 1172 3500 \nL 2356 3500 \nL 2356 3053 \nL 1172 3053 \nL 1172 1153 \nQ 1172 725 1289 603 \nQ 1406 481 1766 481 \nL 2356 481 \nL 2356 0 \nL 1766 0 \nQ 1100 0 847 248 \nQ 594 497 594 1153 \nL 594 3053 \nL 172 3053 \nL 172 3500 \nL 594 3500 \nL 594 4494 \nL 1172 4494 \nz\n\" transform=\"scale(0.015625)\"/>\n       <path id=\"DejaVuSans-68\" d=\"M 3513 2113 \nL 3513 0 \nL 2938 0 \nL 2938 2094 \nQ 2938 2591 2744 2837 \nQ 2550 3084 2163 3084 \nQ 1697 3084 1428 2787 \nQ 1159 2491 1159 1978 \nL 1159 0 \nL 581 0 \nL 581 4863 \nL 1159 4863 \nL 1159 2956 \nQ 1366 3272 1645 3428 \nQ 1925 3584 2291 3584 \nQ 2894 3584 3203 3211 \nQ 3513 2838 3513 2113 \nz\n\" transform=\"scale(0.015625)\"/>\n       <path id=\"DejaVuSans-28\" d=\"M 1984 4856 \nQ 1566 4138 1362 3434 \nQ 1159 2731 1159 2009 \nQ 1159 1288 1364 580 \nQ 1569 -128 1984 -844 \nL 1484 -844 \nQ 1016 -109 783 600 \nQ 550 1309 550 2009 \nQ 550 2706 781 3412 \nQ 1013 4119 1484 4856 \nL 1984 4856 \nz\n\" transform=\"scale(0.015625)\"/>\n       <path id=\"DejaVuSans-63\" d=\"M 3122 3366 \nL 3122 2828 \nQ 2878 2963 2633 3030 \nQ 2388 3097 2138 3097 \nQ 1578 3097 1268 2742 \nQ 959 2388 959 1747 \nQ 959 1106 1268 751 \nQ 1578 397 2138 397 \nQ 2388 397 2633 464 \nQ 2878 531 3122 666 \nL 3122 134 \nQ 2881 22 2623 -34 \nQ 2366 -91 2075 -91 \nQ 1284 -91 818 406 \nQ 353 903 353 1747 \nQ 353 2603 823 3093 \nQ 1294 3584 2113 3584 \nQ 2378 3584 2631 3529 \nQ 2884 3475 3122 3366 \nz\n\" transform=\"scale(0.015625)\"/>\n       <path id=\"DejaVuSans-6d\" d=\"M 3328 2828 \nQ 3544 3216 3844 3400 \nQ 4144 3584 4550 3584 \nQ 5097 3584 5394 3201 \nQ 5691 2819 5691 2113 \nL 5691 0 \nL 5113 0 \nL 5113 2094 \nQ 5113 2597 4934 2840 \nQ 4756 3084 4391 3084 \nQ 3944 3084 3684 2787 \nQ 3425 2491 3425 1978 \nL 3425 0 \nL 2847 0 \nL 2847 2094 \nQ 2847 2600 2669 2842 \nQ 2491 3084 2119 3084 \nQ 1678 3084 1418 2786 \nQ 1159 2488 1159 1978 \nL 1159 0 \nL 581 0 \nL 581 3500 \nL 1159 3500 \nL 1159 2956 \nQ 1356 3278 1631 3431 \nQ 1906 3584 2284 3584 \nQ 2666 3584 2933 3390 \nQ 3200 3197 3328 2828 \nz\n\" transform=\"scale(0.015625)\"/>\n       <path id=\"DejaVuSans-29\" d=\"M 513 4856 \nL 1013 4856 \nQ 1481 4119 1714 3412 \nQ 1947 2706 1947 2009 \nQ 1947 1309 1714 600 \nQ 1481 -109 1013 -844 \nL 513 -844 \nQ 928 -128 1133 580 \nQ 1338 1288 1338 2009 \nQ 1338 2731 1133 3434 \nQ 928 4138 513 4856 \nz\n\" transform=\"scale(0.015625)\"/>\n      </defs>\n      <use xlink:href=\"#DejaVuSans-73\"/>\n      <use xlink:href=\"#DejaVuSans-65\" x=\"52.099609\"/>\n      <use xlink:href=\"#DejaVuSans-70\" x=\"113.623047\"/>\n      <use xlink:href=\"#DejaVuSans-61\" x=\"177.099609\"/>\n      <use xlink:href=\"#DejaVuSans-6c\" x=\"238.378906\"/>\n      <use xlink:href=\"#DejaVuSans-20\" x=\"266.162109\"/>\n      <use xlink:href=\"#DejaVuSans-6c\" x=\"297.949219\"/>\n      <use xlink:href=\"#DejaVuSans-65\" x=\"325.732422\"/>\n      <use xlink:href=\"#DejaVuSans-6e\" x=\"387.255859\"/>\n      <use xlink:href=\"#DejaVuSans-67\" x=\"450.634766\"/>\n      <use xlink:href=\"#DejaVuSans-74\" x=\"514.111328\"/>\n      <use xlink:href=\"#DejaVuSans-68\" x=\"553.320312\"/>\n      <use xlink:href=\"#DejaVuSans-20\" x=\"616.699219\"/>\n      <use xlink:href=\"#DejaVuSans-28\" x=\"648.486328\"/>\n      <use xlink:href=\"#DejaVuSans-63\" x=\"687.5\"/>\n      <use xlink:href=\"#DejaVuSans-6d\" x=\"742.480469\"/>\n      <use xlink:href=\"#DejaVuSans-29\" x=\"839.892578\"/>\n     </g>\n    </g>\n   </g>\n   <g id=\"matplotlib.axis_2\">\n    <g id=\"ytick_1\">\n     <g id=\"line2d_5\">\n      <defs>\n       <path id=\"m1633e8f0f3\" d=\"M 0 0 \nL -3.5 0 \n\" style=\"stroke: #000000; stroke-width: 0.8\"/>\n      </defs>\n      <g>\n       <use xlink:href=\"#m1633e8f0f3\" x=\"43.78125\" y=\"220.999219\" style=\"stroke: #000000; stroke-width: 0.8\"/>\n      </g>\n     </g>\n     <g id=\"text_6\">\n      <!-- 2.0 -->\n      <g transform=\"translate(20.878125 224.798437) scale(0.1 -0.1)\">\n       <defs>\n        <path id=\"DejaVuSans-32\" d=\"M 1228 531 \nL 3431 531 \nL 3431 0 \nL 469 0 \nL 469 531 \nQ 828 903 1448 1529 \nQ 2069 2156 2228 2338 \nQ 2531 2678 2651 2914 \nQ 2772 3150 2772 3378 \nQ 2772 3750 2511 3984 \nQ 2250 4219 1831 4219 \nQ 1534 4219 1204 4116 \nQ 875 4013 500 3803 \nL 500 4441 \nQ 881 4594 1212 4672 \nQ 1544 4750 1819 4750 \nQ 2544 4750 2975 4387 \nQ 3406 4025 3406 3419 \nQ 3406 3131 3298 2873 \nQ 3191 2616 2906 2266 \nQ 2828 2175 2409 1742 \nQ 1991 1309 1228 531 \nz\n\" transform=\"scale(0.015625)\"/>\n        <path id=\"DejaVuSans-2e\" d=\"M 684 794 \nL 1344 794 \nL 1344 0 \nL 684 0 \nL 684 794 \nz\n\" transform=\"scale(0.015625)\"/>\n        <path id=\"DejaVuSans-30\" d=\"M 2034 4250 \nQ 1547 4250 1301 3770 \nQ 1056 3291 1056 2328 \nQ 1056 1369 1301 889 \nQ 1547 409 2034 409 \nQ 2525 409 2770 889 \nQ 3016 1369 3016 2328 \nQ 3016 3291 2770 3770 \nQ 2525 4250 2034 4250 \nz\nM 2034 4750 \nQ 2819 4750 3233 4129 \nQ 3647 3509 3647 2328 \nQ 3647 1150 3233 529 \nQ 2819 -91 2034 -91 \nQ 1250 -91 836 529 \nQ 422 1150 422 2328 \nQ 422 3509 836 4129 \nQ 1250 4750 2034 4750 \nz\n\" transform=\"scale(0.015625)\"/>\n       </defs>\n       <use xlink:href=\"#DejaVuSans-32\"/>\n       <use xlink:href=\"#DejaVuSans-2e\" x=\"63.623047\"/>\n       <use xlink:href=\"#DejaVuSans-30\" x=\"95.410156\"/>\n      </g>\n     </g>\n    </g>\n    <g id=\"ytick_2\">\n     <g id=\"line2d_6\">\n      <g>\n       <use xlink:href=\"#m1633e8f0f3\" x=\"43.78125\" y=\"178.999219\" style=\"stroke: #000000; stroke-width: 0.8\"/>\n      </g>\n     </g>\n     <g id=\"text_7\">\n      <!-- 2.5 -->\n      <g transform=\"translate(20.878125 182.798437) scale(0.1 -0.1)\">\n       <use xlink:href=\"#DejaVuSans-32\"/>\n       <use xlink:href=\"#DejaVuSans-2e\" x=\"63.623047\"/>\n       <use xlink:href=\"#DejaVuSans-35\" x=\"95.410156\"/>\n      </g>\n     </g>\n    </g>\n    <g id=\"ytick_3\">\n     <g id=\"line2d_7\">\n      <g>\n       <use xlink:href=\"#m1633e8f0f3\" x=\"43.78125\" y=\"136.999219\" style=\"stroke: #000000; stroke-width: 0.8\"/>\n      </g>\n     </g>\n     <g id=\"text_8\">\n      <!-- 3.0 -->\n      <g transform=\"translate(20.878125 140.798437) scale(0.1 -0.1)\">\n       <defs>\n        <path id=\"DejaVuSans-33\" d=\"M 2597 2516 \nQ 3050 2419 3304 2112 \nQ 3559 1806 3559 1356 \nQ 3559 666 3084 287 \nQ 2609 -91 1734 -91 \nQ 1441 -91 1130 -33 \nQ 819 25 488 141 \nL 488 750 \nQ 750 597 1062 519 \nQ 1375 441 1716 441 \nQ 2309 441 2620 675 \nQ 2931 909 2931 1356 \nQ 2931 1769 2642 2001 \nQ 2353 2234 1838 2234 \nL 1294 2234 \nL 1294 2753 \nL 1863 2753 \nQ 2328 2753 2575 2939 \nQ 2822 3125 2822 3475 \nQ 2822 3834 2567 4026 \nQ 2313 4219 1838 4219 \nQ 1578 4219 1281 4162 \nQ 984 4106 628 3988 \nL 628 4550 \nQ 988 4650 1302 4700 \nQ 1616 4750 1894 4750 \nQ 2613 4750 3031 4423 \nQ 3450 4097 3450 3541 \nQ 3450 3153 3228 2886 \nQ 3006 2619 2597 2516 \nz\n\" transform=\"scale(0.015625)\"/>\n       </defs>\n       <use xlink:href=\"#DejaVuSans-33\"/>\n       <use xlink:href=\"#DejaVuSans-2e\" x=\"63.623047\"/>\n       <use xlink:href=\"#DejaVuSans-30\" x=\"95.410156\"/>\n      </g>\n     </g>\n    </g>\n    <g id=\"ytick_4\">\n     <g id=\"line2d_8\">\n      <g>\n       <use xlink:href=\"#m1633e8f0f3\" x=\"43.78125\" y=\"94.999219\" style=\"stroke: #000000; stroke-width: 0.8\"/>\n      </g>\n     </g>\n     <g id=\"text_9\">\n      <!-- 3.5 -->\n      <g transform=\"translate(20.878125 98.798437) scale(0.1 -0.1)\">\n       <use xlink:href=\"#DejaVuSans-33\"/>\n       <use xlink:href=\"#DejaVuSans-2e\" x=\"63.623047\"/>\n       <use xlink:href=\"#DejaVuSans-35\" x=\"95.410156\"/>\n      </g>\n     </g>\n    </g>\n    <g id=\"ytick_5\">\n     <g id=\"line2d_9\">\n      <g>\n       <use xlink:href=\"#m1633e8f0f3\" x=\"43.78125\" y=\"52.999219\" style=\"stroke: #000000; stroke-width: 0.8\"/>\n      </g>\n     </g>\n     <g id=\"text_10\">\n      <!-- 4.0 -->\n      <g transform=\"translate(20.878125 56.798437) scale(0.1 -0.1)\">\n       <defs>\n        <path id=\"DejaVuSans-34\" d=\"M 2419 4116 \nL 825 1625 \nL 2419 1625 \nL 2419 4116 \nz\nM 2253 4666 \nL 3047 4666 \nL 3047 1625 \nL 3713 1625 \nL 3713 1100 \nL 3047 1100 \nL 3047 0 \nL 2419 0 \nL 2419 1100 \nL 313 1100 \nL 313 1709 \nL 2253 4666 \nz\n\" transform=\"scale(0.015625)\"/>\n       </defs>\n       <use xlink:href=\"#DejaVuSans-34\"/>\n       <use xlink:href=\"#DejaVuSans-2e\" x=\"63.623047\"/>\n       <use xlink:href=\"#DejaVuSans-30\" x=\"95.410156\"/>\n      </g>\n     </g>\n    </g>\n    <g id=\"ytick_6\">\n     <g id=\"line2d_10\">\n      <g>\n       <use xlink:href=\"#m1633e8f0f3\" x=\"43.78125\" y=\"10.999219\" style=\"stroke: #000000; stroke-width: 0.8\"/>\n      </g>\n     </g>\n     <g id=\"text_11\">\n      <!-- 4.5 -->\n      <g transform=\"translate(20.878125 14.798437) scale(0.1 -0.1)\">\n       <use xlink:href=\"#DejaVuSans-34\"/>\n       <use xlink:href=\"#DejaVuSans-2e\" x=\"63.623047\"/>\n       <use xlink:href=\"#DejaVuSans-35\" x=\"95.410156\"/>\n      </g>\n     </g>\n    </g>\n    <g id=\"text_12\">\n     <!-- sepal width (cm) -->\n     <g transform=\"translate(14.798438 161.988281) rotate(-90) scale(0.1 -0.1)\">\n      <defs>\n       <path id=\"DejaVuSans-77\" d=\"M 269 3500 \nL 844 3500 \nL 1563 769 \nL 2278 3500 \nL 2956 3500 \nL 3675 769 \nL 4391 3500 \nL 4966 3500 \nL 4050 0 \nL 3372 0 \nL 2619 2869 \nL 1863 0 \nL 1184 0 \nL 269 3500 \nz\n\" transform=\"scale(0.015625)\"/>\n       <path id=\"DejaVuSans-69\" d=\"M 603 3500 \nL 1178 3500 \nL 1178 0 \nL 603 0 \nL 603 3500 \nz\nM 603 4863 \nL 1178 4863 \nL 1178 4134 \nL 603 4134 \nL 603 4863 \nz\n\" transform=\"scale(0.015625)\"/>\n       <path id=\"DejaVuSans-64\" d=\"M 2906 2969 \nL 2906 4863 \nL 3481 4863 \nL 3481 0 \nL 2906 0 \nL 2906 525 \nQ 2725 213 2448 61 \nQ 2172 -91 1784 -91 \nQ 1150 -91 751 415 \nQ 353 922 353 1747 \nQ 353 2572 751 3078 \nQ 1150 3584 1784 3584 \nQ 2172 3584 2448 3432 \nQ 2725 3281 2906 2969 \nz\nM 947 1747 \nQ 947 1113 1208 752 \nQ 1469 391 1925 391 \nQ 2381 391 2643 752 \nQ 2906 1113 2906 1747 \nQ 2906 2381 2643 2742 \nQ 2381 3103 1925 3103 \nQ 1469 3103 1208 2742 \nQ 947 2381 947 1747 \nz\n\" transform=\"scale(0.015625)\"/>\n      </defs>\n      <use xlink:href=\"#DejaVuSans-73\"/>\n      <use xlink:href=\"#DejaVuSans-65\" x=\"52.099609\"/>\n      <use xlink:href=\"#DejaVuSans-70\" x=\"113.623047\"/>\n      <use xlink:href=\"#DejaVuSans-61\" x=\"177.099609\"/>\n      <use xlink:href=\"#DejaVuSans-6c\" x=\"238.378906\"/>\n      <use xlink:href=\"#DejaVuSans-20\" x=\"266.162109\"/>\n      <use xlink:href=\"#DejaVuSans-77\" x=\"297.949219\"/>\n      <use xlink:href=\"#DejaVuSans-69\" x=\"379.736328\"/>\n      <use xlink:href=\"#DejaVuSans-64\" x=\"407.519531\"/>\n      <use xlink:href=\"#DejaVuSans-74\" x=\"470.996094\"/>\n      <use xlink:href=\"#DejaVuSans-68\" x=\"510.205078\"/>\n      <use xlink:href=\"#DejaVuSans-20\" x=\"573.583984\"/>\n      <use xlink:href=\"#DejaVuSans-28\" x=\"605.371094\"/>\n      <use xlink:href=\"#DejaVuSans-63\" x=\"644.384766\"/>\n      <use xlink:href=\"#DejaVuSans-6d\" x=\"699.365234\"/>\n      <use xlink:href=\"#DejaVuSans-29\" x=\"796.777344\"/>\n     </g>\n    </g>\n   </g>\n   <g id=\"patch_3\">\n    <path d=\"M 43.78125 231.079219 \nL 43.78125 9.319219 \n\" style=\"fill: none; stroke: #000000; stroke-width: 0.8; stroke-linejoin: miter; stroke-linecap: square\"/>\n   </g>\n   <g id=\"patch_4\">\n    <path d=\"M 266.98125 231.079219 \nL 266.98125 9.319219 \n\" style=\"fill: none; stroke: #000000; stroke-width: 0.8; stroke-linejoin: miter; stroke-linecap: square\"/>\n   </g>\n   <g id=\"patch_5\">\n    <path d=\"M 43.78125 231.079219 \nL 266.98125 231.079219 \n\" style=\"fill: none; stroke: #000000; stroke-width: 0.8; stroke-linejoin: miter; stroke-linecap: square\"/>\n   </g>\n   <g id=\"patch_6\">\n    <path d=\"M 43.78125 9.319219 \nL 266.98125 9.319219 \n\" style=\"fill: none; stroke: #000000; stroke-width: 0.8; stroke-linejoin: miter; stroke-linecap: square\"/>\n   </g>\n   <g id=\"legend_1\">\n    <g id=\"patch_7\">\n     <path d=\"M 154.475 61.353594 \nL 259.98125 61.353594 \nQ 261.98125 61.353594 261.98125 59.353594 \nL 261.98125 16.319219 \nQ 261.98125 14.319219 259.98125 14.319219 \nL 154.475 14.319219 \nQ 152.475 14.319219 152.475 16.319219 \nL 152.475 59.353594 \nQ 152.475 61.353594 154.475 61.353594 \nz\n\" style=\"fill: #ffffff; opacity: 0.8; stroke: #cccccc; stroke-linejoin: miter\"/>\n    </g>\n    <g id=\"PathCollection_4\">\n     <g>\n      <use xlink:href=\"#m7f39282fd1\" x=\"166.475\" y=\"23.292656\" style=\"fill: #ff0000; stroke: #000000\"/>\n     </g>\n    </g>\n    <g id=\"text_13\">\n     <!-- Iris Setosa -->\n     <g transform=\"translate(184.475 25.917656) scale(0.1 -0.1)\">\n      <defs>\n       <path id=\"DejaVuSans-49\" d=\"M 628 4666 \nL 1259 4666 \nL 1259 0 \nL 628 0 \nL 628 4666 \nz\n\" transform=\"scale(0.015625)\"/>\n       <path id=\"DejaVuSans-72\" d=\"M 2631 2963 \nQ 2534 3019 2420 3045 \nQ 2306 3072 2169 3072 \nQ 1681 3072 1420 2755 \nQ 1159 2438 1159 1844 \nL 1159 0 \nL 581 0 \nL 581 3500 \nL 1159 3500 \nL 1159 2956 \nQ 1341 3275 1631 3429 \nQ 1922 3584 2338 3584 \nQ 2397 3584 2469 3576 \nQ 2541 3569 2628 3553 \nL 2631 2963 \nz\n\" transform=\"scale(0.015625)\"/>\n       <path id=\"DejaVuSans-53\" d=\"M 3425 4513 \nL 3425 3897 \nQ 3066 4069 2747 4153 \nQ 2428 4238 2131 4238 \nQ 1616 4238 1336 4038 \nQ 1056 3838 1056 3469 \nQ 1056 3159 1242 3001 \nQ 1428 2844 1947 2747 \nL 2328 2669 \nQ 3034 2534 3370 2195 \nQ 3706 1856 3706 1288 \nQ 3706 609 3251 259 \nQ 2797 -91 1919 -91 \nQ 1588 -91 1214 -16 \nQ 841 59 441 206 \nL 441 856 \nQ 825 641 1194 531 \nQ 1563 422 1919 422 \nQ 2459 422 2753 634 \nQ 3047 847 3047 1241 \nQ 3047 1584 2836 1778 \nQ 2625 1972 2144 2069 \nL 1759 2144 \nQ 1053 2284 737 2584 \nQ 422 2884 422 3419 \nQ 422 4038 858 4394 \nQ 1294 4750 2059 4750 \nQ 2388 4750 2728 4690 \nQ 3069 4631 3425 4513 \nz\n\" transform=\"scale(0.015625)\"/>\n       <path id=\"DejaVuSans-6f\" d=\"M 1959 3097 \nQ 1497 3097 1228 2736 \nQ 959 2375 959 1747 \nQ 959 1119 1226 758 \nQ 1494 397 1959 397 \nQ 2419 397 2687 759 \nQ 2956 1122 2956 1747 \nQ 2956 2369 2687 2733 \nQ 2419 3097 1959 3097 \nz\nM 1959 3584 \nQ 2709 3584 3137 3096 \nQ 3566 2609 3566 1747 \nQ 3566 888 3137 398 \nQ 2709 -91 1959 -91 \nQ 1206 -91 779 398 \nQ 353 888 353 1747 \nQ 353 2609 779 3096 \nQ 1206 3584 1959 3584 \nz\n\" transform=\"scale(0.015625)\"/>\n      </defs>\n      <use xlink:href=\"#DejaVuSans-49\"/>\n      <use xlink:href=\"#DejaVuSans-72\" x=\"29.492188\"/>\n      <use xlink:href=\"#DejaVuSans-69\" x=\"70.605469\"/>\n      <use xlink:href=\"#DejaVuSans-73\" x=\"98.388672\"/>\n      <use xlink:href=\"#DejaVuSans-20\" x=\"150.488281\"/>\n      <use xlink:href=\"#DejaVuSans-53\" x=\"182.275391\"/>\n      <use xlink:href=\"#DejaVuSans-65\" x=\"245.751953\"/>\n      <use xlink:href=\"#DejaVuSans-74\" x=\"307.275391\"/>\n      <use xlink:href=\"#DejaVuSans-6f\" x=\"346.484375\"/>\n      <use xlink:href=\"#DejaVuSans-73\" x=\"407.666016\"/>\n      <use xlink:href=\"#DejaVuSans-61\" x=\"459.765625\"/>\n     </g>\n    </g>\n    <g id=\"PathCollection_5\">\n     <g>\n      <use xlink:href=\"#mfb252b1e53\" x=\"166.475\" y=\"37.970781\" style=\"fill: #00ff00; stroke: #000000\"/>\n     </g>\n    </g>\n    <g id=\"text_14\">\n     <!-- Iris Versicolour -->\n     <g transform=\"translate(184.475 40.595781) scale(0.1 -0.1)\">\n      <defs>\n       <path id=\"DejaVuSans-56\" d=\"M 1831 0 \nL 50 4666 \nL 709 4666 \nL 2188 738 \nL 3669 4666 \nL 4325 4666 \nL 2547 0 \nL 1831 0 \nz\n\" transform=\"scale(0.015625)\"/>\n       <path id=\"DejaVuSans-75\" d=\"M 544 1381 \nL 544 3500 \nL 1119 3500 \nL 1119 1403 \nQ 1119 906 1312 657 \nQ 1506 409 1894 409 \nQ 2359 409 2629 706 \nQ 2900 1003 2900 1516 \nL 2900 3500 \nL 3475 3500 \nL 3475 0 \nL 2900 0 \nL 2900 538 \nQ 2691 219 2414 64 \nQ 2138 -91 1772 -91 \nQ 1169 -91 856 284 \nQ 544 659 544 1381 \nz\nM 1991 3584 \nL 1991 3584 \nz\n\" transform=\"scale(0.015625)\"/>\n      </defs>\n      <use xlink:href=\"#DejaVuSans-49\"/>\n      <use xlink:href=\"#DejaVuSans-72\" x=\"29.492188\"/>\n      <use xlink:href=\"#DejaVuSans-69\" x=\"70.605469\"/>\n      <use xlink:href=\"#DejaVuSans-73\" x=\"98.388672\"/>\n      <use xlink:href=\"#DejaVuSans-20\" x=\"150.488281\"/>\n      <use xlink:href=\"#DejaVuSans-56\" x=\"182.275391\"/>\n      <use xlink:href=\"#DejaVuSans-65\" x=\"242.933594\"/>\n      <use xlink:href=\"#DejaVuSans-72\" x=\"304.457031\"/>\n      <use xlink:href=\"#DejaVuSans-73\" x=\"345.570312\"/>\n      <use xlink:href=\"#DejaVuSans-69\" x=\"397.669922\"/>\n      <use xlink:href=\"#DejaVuSans-63\" x=\"425.453125\"/>\n      <use xlink:href=\"#DejaVuSans-6f\" x=\"480.433594\"/>\n      <use xlink:href=\"#DejaVuSans-6c\" x=\"541.615234\"/>\n      <use xlink:href=\"#DejaVuSans-6f\" x=\"569.398438\"/>\n      <use xlink:href=\"#DejaVuSans-75\" x=\"630.580078\"/>\n      <use xlink:href=\"#DejaVuSans-72\" x=\"693.958984\"/>\n     </g>\n    </g>\n    <g id=\"PathCollection_6\">\n     <g>\n      <use xlink:href=\"#m7c1a18d54f\" x=\"166.475\" y=\"52.648906\" style=\"fill: #0000ff; stroke: #000000\"/>\n     </g>\n    </g>\n    <g id=\"text_15\">\n     <!-- Iris Virginica -->\n     <g transform=\"translate(184.475 55.273906) scale(0.1 -0.1)\">\n      <use xlink:href=\"#DejaVuSans-49\"/>\n      <use xlink:href=\"#DejaVuSans-72\" x=\"29.492188\"/>\n      <use xlink:href=\"#DejaVuSans-69\" x=\"70.605469\"/>\n      <use xlink:href=\"#DejaVuSans-73\" x=\"98.388672\"/>\n      <use xlink:href=\"#DejaVuSans-20\" x=\"150.488281\"/>\n      <use xlink:href=\"#DejaVuSans-56\" x=\"182.275391\"/>\n      <use xlink:href=\"#DejaVuSans-69\" x=\"248.433594\"/>\n      <use xlink:href=\"#DejaVuSans-72\" x=\"276.216797\"/>\n      <use xlink:href=\"#DejaVuSans-67\" x=\"315.580078\"/>\n      <use xlink:href=\"#DejaVuSans-69\" x=\"379.056641\"/>\n      <use xlink:href=\"#DejaVuSans-6e\" x=\"406.839844\"/>\n      <use xlink:href=\"#DejaVuSans-69\" x=\"470.21875\"/>\n      <use xlink:href=\"#DejaVuSans-63\" x=\"498.001953\"/>\n      <use xlink:href=\"#DejaVuSans-61\" x=\"552.982422\"/>\n     </g>\n    </g>\n   </g>\n  </g>\n </g>\n <defs>\n  <clipPath id=\"p383904a6f2\">\n   <rect x=\"43.78125\" y=\"9.319219\" width=\"223.2\" height=\"221.76\"/>\n  </clipPath>\n </defs>\n</svg>\n",
      "text/plain": [
       "<Figure size 400x400 with 1 Axes>"
      ]
     },
     "metadata": {},
     "output_type": "display_data"
    }
   ],
   "source": [
    "import numpy as np\n",
    "import matplotlib.pyplot as plt\n",
    "from matplotlib.colors import ListedColormap\n",
    "from sklearn import neighbors, datasets\n",
    "iris = datasets.load_iris()\n",
    "cmap_light = ListedColormap(['#FFAAAA', '#AAFFAA', '#AAAAFF'])\n",
    "cmap_bold = ListedColormap(['#FF0000',  '#00FF00', '#0000FF'])\n",
    "\n",
    "fig, ax = plt.subplots(figsize=(4,4))\n",
    "for i, iris_class in enumerate(['Iris Setosa', 'Iris Versicolour', 'Iris Virginica']):\n",
    "    idx = y==i\n",
    "    ax.scatter(X[idx,0], X[idx,1], \n",
    "               c=cmap_bold.colors[i], edgecolor='k', \n",
    "               s=20, label=iris_class);\n",
    "ax.set(xlabel='sepal length (cm)', ylabel='sepal width (cm)')\n",
    "ax.legend();"
   ]
  },
  {
   "cell_type": "markdown",
   "metadata": {},
   "source": [
    "The idea behind a KNN classifier is pretty simple: Given a training set $\\boldsymbol X \\in \\mathbb{R}^{N \\times D}$ and $\\boldsymbol y \\in \\mathbb{Z}^N$, we predict the label of a new point $\\boldsymbol x \\in \\mathbb{R}^{D}$ __as the label of the majority of its \"K nearest neighbor\"__ (hence the name KNN) by some distance measure (e.g the Euclidean distance).\n",
    "Here, $N$ is the number of data points in the dataset, and $D$ is the dimensionality of the data."
   ]
  },
  {
   "cell_type": "markdown",
   "metadata": {},
   "source": [
    "### Pairwise distances\n",
    "We will implement a function `pairwise_distance_matrix` for computing \n",
    "the pairwise distances between two datasets $\\boldsymbol X$ and $\\boldsymbol Y$.\n",
    "We can then use this pairwise distance matrix to find out the K-nearest neighbors for each row in $\\boldsymbol Y$ given $\\boldsymbol X$.\n",
    "\n",
    "You may be tempting to iterate through\n",
    "rows of $\\boldsymbol X$ and $\\boldsymbol Y$ and fill in the distance matrix, but that is slow! Can you\n",
    "think of some way to vectorize your computation (i.e. make it faster by using numpy/scipy operations only)?"
   ]
  },
  {
   "cell_type": "code",
   "execution_count": 8,
   "metadata": {
    "nbgrader": {
     "grade": false,
     "grade_id": "cell-42d92e38085880f0",
     "locked": false,
     "schema_version": 3,
     "solution": true,
     "task": false
    }
   },
   "outputs": [],
   "source": [
    "# GRADED FUNCTION: DO NOT EDIT THIS LINE\n",
    "from sklearn import metrics\n",
    "def pairwise_distance_matrix(X, Y):\n",
    "    \"\"\"Compute the pairwise distance between rows of X and rows of Y\n",
    "\n",
    "    Arguments\n",
    "    ----------\n",
    "    X: ndarray of size (N, D)\n",
    "    Y: ndarray of size (M, D)\n",
    "    \n",
    "    Returns\n",
    "    --------\n",
    "    D: matrix of shape (N, M), each entry D[i,j] is the distance between\n",
    "    X[i] and Y[j] using the dot product.\n",
    "    \"\"\"\n",
    "    # YOUR CODE HERE\n",
    "    ### Uncomment and modify the code below\n",
    "    N, D = X.shape\n",
    "    M, _ = Y.shape\n",
    "    distance_matrix = np.zeros((N, M)) # <-- EDIT THIS to compute the correct distance matrix.\n",
    "    distance_matrix = metrics.pairwise.euclidean_distances(X, Y)\n",
    "    return distance_matrix    "
   ]
  },
  {
   "cell_type": "code",
   "execution_count": 9,
   "metadata": {
    "nbgrader": {
     "grade": true,
     "grade_id": "cell-46b53eb0aa0995d1",
     "locked": true,
     "points": 2,
     "schema_version": 3,
     "solution": false,
     "task": false
    }
   },
   "outputs": [],
   "source": [
    "# Test cases for computing pairwise distance matrix.\n",
    "\n",
    "X_test = np.array([[2., 1],\n",
    "              [1, 2]])\n",
    "\n",
    "Y_test = np.array([[0., 1], [1, 1]])\n",
    "\n",
    "np.testing.assert_allclose(\n",
    "    pairwise_distance_matrix(X_test, X_test),\n",
    "    np.array([[0.        , 1.41421356],\n",
    "              [1.41421356, 0.        ]]))\n",
    "\n",
    "np.testing.assert_allclose(\n",
    "    pairwise_distance_matrix(X_test, Y_test),\n",
    "    np.array([[2.        , 1.        ],\n",
    "              [1.41421356, 1.        ]])\n",
    ")\n",
    "\n",
    "np.testing.assert_allclose(\n",
    "    pairwise_distance_matrix(Y_test, X_test).T,\n",
    "    np.array([[2.        , 1.        ],\n",
    "              [1.41421356, 1.        ]])\n",
    ")\n",
    "\n",
    "### Some hidden tests below\n",
    "### ..."
   ]
  },
  {
   "cell_type": "markdown",
   "metadata": {},
   "source": [
    "### KNN\n",
    "Given the `pairwise_distance_matrix` definition above, we are now ready to implement\n",
    "KNN. We have provided the implementation for you, but do have a look at the code\n",
    "to get a better understanding of what it does!"
   ]
  },
  {
   "cell_type": "code",
   "execution_count": null,
   "metadata": {
    "nbgrader": {
     "grade": false,
     "grade_id": "cell-a7c6b80357be6f31",
     "locked": false,
     "schema_version": 3,
     "solution": true,
     "task": false
    }
   },
   "outputs": [],
   "source": [
    "# YOUR CODE HERE"
   ]
  },
  {
   "cell_type": "markdown",
   "metadata": {},
   "source": [
    "We can also visualize the \"decision boundary\" of the KNN classifier, which is the region of a problem space in which the output label of a classifier is ambiguous. This would help us develop an intuition of how KNN behaves in practice. The code below plots the decision boundary."
   ]
  },
  {
   "cell_type": "code",
   "execution_count": 10,
   "metadata": {},
   "outputs": [
    {
     "ename": "NameError",
     "evalue": "name 'KNN' is not defined",
     "output_type": "error",
     "traceback": [
      "\u001b[0;31m---------------------------------------------------------------------------\u001b[0m",
      "\u001b[0;31mNameError\u001b[0m                                 Traceback (most recent call last)",
      "Cell \u001b[0;32mIn[10], line 9\u001b[0m\n\u001b[1;32m      7\u001b[0m ypred \u001b[39m=\u001b[39m []\n\u001b[1;32m      8\u001b[0m \u001b[39mfor\u001b[39;00m xtest \u001b[39min\u001b[39;00m np\u001b[39m.\u001b[39marray([xx\u001b[39m.\u001b[39mravel(), yy\u001b[39m.\u001b[39mravel()])\u001b[39m.\u001b[39mT:\n\u001b[0;32m----> 9\u001b[0m     ypred\u001b[39m.\u001b[39mappend(KNN(K, X, y, xtest))\n\u001b[1;32m     11\u001b[0m fig, ax \u001b[39m=\u001b[39m plt\u001b[39m.\u001b[39msubplots(figsize\u001b[39m=\u001b[39m(\u001b[39m4\u001b[39m,\u001b[39m4\u001b[39m))\n\u001b[1;32m     13\u001b[0m ax\u001b[39m.\u001b[39mpcolormesh(xx, yy, np\u001b[39m.\u001b[39marray(ypred)\u001b[39m.\u001b[39mreshape(xx\u001b[39m.\u001b[39mshape), cmap\u001b[39m=\u001b[39mcmap_light)\n",
      "\u001b[0;31mNameError\u001b[0m: name 'KNN' is not defined"
     ]
    }
   ],
   "source": [
    "x_min, x_max = X[:, 0].min() - 1, X[:, 0].max() + 1\n",
    "y_min, y_max = X[:, 1].min() - 1, X[:, 1].max() + 1\n",
    "step = 0.1\n",
    "xx, yy = np.meshgrid(np.arange(x_min, x_max, step),\n",
    "                     np.arange(y_min, y_max, step))\n",
    "\n",
    "ypred = []\n",
    "for xtest in np.array([xx.ravel(), yy.ravel()]).T:\n",
    "    ypred.append(KNN(K, X, y, xtest))\n",
    "\n",
    "fig, ax = plt.subplots(figsize=(4,4))\n",
    "\n",
    "ax.pcolormesh(xx, yy, np.array(ypred).reshape(xx.shape), cmap=cmap_light)\n",
    "ax.scatter(X[:,0], X[:,1], c=y, cmap=cmap_bold, edgecolor='k', s=20);"
   ]
  },
  {
   "cell_type": "code",
   "execution_count": null,
   "metadata": {},
   "outputs": [],
   "source": []
  }
 ],
 "metadata": {
  "coursera": {
   "course_slug": "mathematics-machine-learning-pca",
   "graded_item_id": "kGOjp",
   "launcher_item_id": "Myc4L"
  },
  "kernelspec": {
   "display_name": "mle",
   "language": "python",
   "name": "python3"
  },
  "language_info": {
   "codemirror_mode": {
    "name": "ipython",
    "version": 3
   },
   "file_extension": ".py",
   "mimetype": "text/x-python",
   "name": "python",
   "nbconvert_exporter": "python",
   "pygments_lexer": "ipython3",
   "version": "3.8.15"
  },
  "toc": {
   "base_numbering": 1,
   "nav_menu": {},
   "number_sections": true,
   "sideBar": true,
   "skip_h1_title": true,
   "title_cell": "Table of Contents",
   "title_sidebar": "Contents",
   "toc_cell": false,
   "toc_position": {},
   "toc_section_display": true,
   "toc_window_display": true
  },
  "vscode": {
   "interpreter": {
    "hash": "46a2712e5776144f8ae576f4bb83ffbacb1dd5250ddea76be76c45dde6278cc1"
   }
  }
 },
 "nbformat": 4,
 "nbformat_minor": 2
}
